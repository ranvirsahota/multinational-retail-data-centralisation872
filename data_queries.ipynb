{
 "cells": [
  {
   "cell_type": "markdown",
   "metadata": {},
   "source": [
    "##"
   ]
  },
  {
   "cell_type": "code",
   "execution_count": 2,
   "metadata": {},
   "outputs": [],
   "source": [
    "from data_cleaning import DatabaseConnector\n",
    "from data_extraction import DataExtractor\n",
    "import pandas as pd\n",
    "new_db_creds = './db_creds_local.yaml' # write the file path to the file containing database credentials. Refer to README.md\n",
    "db_conn = DatabaseConnector(new_db_creds)\n",
    "data_extrc = DataExtractor()"
   ]
  },
  {
   "cell_type": "markdown",
   "metadata": {},
   "source": [
    "## Task 1: How many stores does the business have and in which countries?\n",
    "The Operations team would like to know which countries we currently operate in and which country now has the most stores. "
   ]
  },
  {
   "cell_type": "code",
   "execution_count": 3,
   "metadata": {},
   "outputs": [
    {
     "name": "stdout",
     "output_type": "stream",
     "text": [
      "<sqlalchemy.engine.cursor.CursorResult object at 0x7fda3739fcb0>\n",
      "  country_code  store_count\n",
      "0           GB          266\n",
      "1           DE          141\n",
      "2           US           34\n"
     ]
    }
   ],
   "source": [
    "query = '''\n",
    "            SELECT \n",
    "                country_code, \n",
    "                COUNT(country_code) AS store_count\n",
    "            FROM dim_store_details\n",
    "            GROUP BY country_code\n",
    "            ORDER BY store_count DESC;\n",
    "            '''\n",
    "print(data_extrc.read_rds_table(query, db_conn))"
   ]
  },
  {
   "cell_type": "markdown",
   "metadata": {},
   "source": [
    "## 2. Which locations currently have the most stores?\n",
    "The business stakeholders would like to know which locations currently have the most stores. They would like to close some stores before opening more in other locations. Find out which locations have the most stores currently."
   ]
  },
  {
   "cell_type": "code",
   "execution_count": 4,
   "metadata": {},
   "outputs": [
    {
     "name": "stdout",
     "output_type": "stream",
     "text": [
      "<sqlalchemy.engine.cursor.CursorResult object at 0x7fda3739fe00>\n",
      "       locality  store_count\n",
      "0    Chapletown           14\n",
      "1        Belper           13\n",
      "2        Bushey           12\n",
      "3        Exeter           11\n",
      "4      Arbroath           10\n",
      "5  High Wycombe           10\n",
      "6    Rutherglen           10\n"
     ]
    }
   ],
   "source": [
    "query = '''\n",
    "            SELECT \n",
    "                locality, \n",
    "                COUNT(locality) AS store_count\n",
    "            FROM dim_store_details\n",
    "            GROUP BY locality\n",
    "            ORDER BY store_count DESC\n",
    "            LIMIT 7;\n",
    "            '''\n",
    "print(data_extrc.read_rds_table(query, db_conn))\n"
   ]
  },
  {
   "cell_type": "markdown",
   "metadata": {},
   "source": [
    "## 3. Which months produced the largest amount of sales?\n",
    "Query the database to find out which months have produced the most sales."
   ]
  },
  {
   "cell_type": "code",
   "execution_count": 5,
   "metadata": {},
   "outputs": [
    {
     "name": "stdout",
     "output_type": "stream",
     "text": [
      "<sqlalchemy.engine.cursor.CursorResult object at 0x7fda3739fd20>\n",
      "  total_sales month\n",
      "0   673295.68     8\n",
      "1   668041.45     1\n",
      "2   657335.84    10\n",
      "3   650321.43     5\n",
      "4   645741.70     7\n",
      "5   645463.00     3\n"
     ]
    }
   ],
   "source": [
    "query = '''\n",
    "            SELECT ROUND(\n",
    "                            CAST(SUM(dim_products.product_price * orders_table.product_quantity) AS numeric), 2\n",
    "                        ) AS total_sales,\n",
    "                dim_date_times.month\n",
    "            FROM orders_table\n",
    "            INNER JOIN dim_date_times ON dim_date_times.date_uuid = orders_table.date_uuid\n",
    "            INNER JOIN dim_products ON dim_products.product_code = orders_table.product_code\n",
    "            GROUP BY dim_date_times.month\n",
    "            ORDER BY total_sales DESC\n",
    "            LIMIT 6;\n",
    "        '''\n",
    "print(data_extrc.read_rds_table(query, db_conn))"
   ]
  },
  {
   "cell_type": "markdown",
   "metadata": {},
   "source": [
    "## 4. How many sales are coming from online?\n",
    "The company is looking to increase its online sales. They want to know how many sales are happening online vs offline. Calculate how many products were sold and the amount of sales made for online and offline purchases."
   ]
  },
  {
   "cell_type": "code",
   "execution_count": 6,
   "metadata": {},
   "outputs": [
    {
     "name": "stdout",
     "output_type": "stream",
     "text": [
      "<sqlalchemy.engine.cursor.CursorResult object at 0x7fda3739fd20>\n",
      "   number_of_sales     sum location\n",
      "0            26957  107739      Web\n",
      "1            93166  374047  Offline\n"
     ]
    }
   ],
   "source": [
    "query = '''\n",
    "            SELECT\n",
    "                    COUNT(date_uuid) AS number_of_sales,\n",
    "                    SUM(orders.product_quantity),\n",
    "                    CASE\n",
    "                        WHEN store_type IN ('Web Portal')\n",
    "                            THEN 'Web'\n",
    "                        WHEN store_type IN ('Super Store', 'Local', 'Outlet', 'Mall Kiosk')\n",
    "                            THEN 'Offline'\n",
    "                    END AS location\n",
    "            FROM orders_table AS orders\n",
    "            INNER JOIN dim_store_details AS stores ON stores.store_code = orders.store_code\n",
    "            GROUP BY location\n",
    "            ORDER BY number_of_sales ASC\n",
    "        '''\n",
    "print(data_extrc.read_rds_table(query, db_conn))"
   ]
  },
  {
   "cell_type": "markdown",
   "metadata": {},
   "source": [
    "## 5. What percentage of sales come through each type of store? (PERCENTAGES IS WRONG)\n",
    "The sales team wants to know which of the different store types is generated the most revenue so they know where to focus. Find out the total and percentage of sales coming from each of the different store types."
   ]
  },
  {
   "cell_type": "code",
   "execution_count": 7,
   "metadata": {},
   "outputs": [
    {
     "name": "stdout",
     "output_type": "stream",
     "text": [
      "<sqlalchemy.engine.cursor.CursorResult object at 0x7fda3739ff50>\n",
      "    store_type total_sales percentage_total(%)\n",
      "0        Local  3440896.52               44.56\n",
      "1   Web Portal  1726547.05               22.36\n",
      "2  Super Store  1224293.65               15.85\n",
      "3   Mall Kiosk   698791.61                9.05\n",
      "4       Outlet   631804.81                8.18\n"
     ]
    }
   ],
   "source": [
    "query = '''\n",
    "            SELECT\n",
    "                store_type,\n",
    "                ROUND(\n",
    "                    CAST(SUM(products.product_price * orders.product_quantity) AS numeric), 2\n",
    "                ) AS total_sales,\n",
    "                ROUND(\n",
    "                    CAST(100 * (SUM(products.product_price * orders.product_quantity) / \n",
    "                                (SELECT SUM(products.product_price * orders.product_quantity)\n",
    "                                FROM orders_table AS orders\n",
    "                                INNER JOIN dim_products AS products ON products.product_code = orders.product_code\n",
    "                                )\n",
    "                            ) AS numeric), 2\n",
    "                ) AS \"percentage_total(%)\"\n",
    "            FROM\n",
    "                orders_table AS orders\n",
    "                INNER JOIN dim_date_times AS date_times ON date_times.date_uuid = orders.date_uuid\n",
    "                INNER JOIN dim_products AS products ON products.product_code = orders.product_code\n",
    "                INNER JOIN dim_store_details AS store_details ON store_details.store_code = orders.store_code\n",
    "            GROUP BY\n",
    "                store_details.store_type\n",
    "            ORDER BY\n",
    "                total_sales DESC;\n",
    "        '''\n",
    "print(data_extrc.read_rds_table(query, db_conn))"
   ]
  },
  {
   "cell_type": "markdown",
   "metadata": {},
   "source": [
    "## 6. Which month in each year produced the highest cost of sales?\n",
    "The company stakeholders want assurances that the company has been doing well recently. Find which months in which years have had the most sales historically.\n"
   ]
  },
  {
   "cell_type": "code",
   "execution_count": 8,
   "metadata": {},
   "outputs": [
    {
     "name": "stdout",
     "output_type": "stream",
     "text": [
      "<sqlalchemy.engine.cursor.CursorResult object at 0x7fda84199be0>\n",
      "  total_sales  year month\n",
      "0    27936.77  1994     3\n",
      "1    27356.14  2019     1\n",
      "2    27091.67  2009     8\n",
      "3    26679.98  1997    11\n",
      "4    26310.97  2018    12\n",
      "5    26277.72  2019     8\n",
      "6    26236.67  2017     9\n",
      "7    25798.12  2010     5\n",
      "8    25648.29  1996     8\n",
      "9    25614.54  2000     1\n"
     ]
    }
   ],
   "source": [
    "query = '''\n",
    "            SELECT\n",
    "                    ROUND(\n",
    "                        CAST(SUM(products.product_price * orders.product_quantity) AS numeric), 2\n",
    "                    ) AS total_sales,\n",
    "                    dates.year,\n",
    "                    dates.month\n",
    "            FROM orders_table AS orders\n",
    "            INNER JOIN dim_products AS products ON products.product_code = orders.product_code\n",
    "            INNER JOIN dim_date_times AS dates ON dates.date_uuid = orders.date_uuid\n",
    "            GROUP BY dates.year, dates.month\n",
    "            ORDER BY total_sales DESC\n",
    "            LIMIT 10;\n",
    "        '''\n",
    "print(data_extrc.read_rds_table(query, db_conn))"
   ]
  },
  {
   "cell_type": "markdown",
   "metadata": {},
   "source": [
    "## 7. What is our staff headcount?\n",
    "The operations team would like to know the overall staff numbers in each location around the world. Perform a query to determine the staff numbers in each of the countries the company sells in."
   ]
  },
  {
   "cell_type": "code",
   "execution_count": 9,
   "metadata": {},
   "outputs": [
    {
     "name": "stdout",
     "output_type": "stream",
     "text": [
      "<sqlalchemy.engine.cursor.CursorResult object at 0x7fda372254e0>\n",
      "   total_staff_numbers country_code\n",
      "0                13307           GB\n",
      "1                 6087           DE\n",
      "2                 1384           US\n"
     ]
    }
   ],
   "source": [
    "query = '''\n",
    "            SELECT\n",
    "                    SUM(staff_numbers) AS total_staff_numbers,\n",
    "                    country_code\n",
    "            FROM dim_store_details\n",
    "            GROUP BY country_code\n",
    "            ORDER BY total_staff_numbers DESC\n",
    "        '''\n",
    "print(data_extrc.read_rds_table(query, db_conn))"
   ]
  },
  {
   "cell_type": "markdown",
   "metadata": {},
   "source": [
    "## 8. Which German store type is selling the most?\n",
    "The sales team is looking to expand their territory in Germany. Determine which type of store is generating the most sales in Germany."
   ]
  },
  {
   "cell_type": "code",
   "execution_count": 10,
   "metadata": {},
   "outputs": [
    {
     "name": "stdout",
     "output_type": "stream",
     "text": [
      "<sqlalchemy.engine.cursor.CursorResult object at 0x7fda37225390>\n",
      "  total_sales   store_type country_code\n",
      "0   198373.57       Outlet           DE\n",
      "1   247634.20   Mall Kiosk           DE\n",
      "2   384625.03  Super Store           DE\n",
      "3  1109909.59        Local           DE\n"
     ]
    }
   ],
   "source": [
    "query = '''\n",
    "            SELECT\n",
    "                ROUND(\n",
    "                    CAST(SUM(products.product_price * orders.product_quantity) AS numeric), 2\n",
    "                ) AS total_sales,\n",
    "                store_type,\n",
    "                stores.country_code\n",
    "            FROM orders_table AS orders\n",
    "            INNER JOIN dim_products AS products ON products.product_code = orders.product_code\n",
    "            INNER JOIN dim_store_details AS stores ON stores.store_code = orders.store_code\n",
    "            GROUP BY stores.store_type, stores.country_code\n",
    "            HAVING country_code = 'DE'\n",
    "            ORDER BY total_sales ASC;\n",
    "        '''\n",
    "print(data_extrc.read_rds_table(query, db_conn))"
   ]
  },
  {
   "cell_type": "markdown",
   "metadata": {},
   "source": [
    "## 9. How quickly is the company making sales?\n",
    "Sales would like the get an accurate metric for how quickly the company is making sales. Determine the average time taken between each sale grouped by year."
   ]
  },
  {
   "cell_type": "code",
   "execution_count": 11,
   "metadata": {},
   "outputs": [
    {
     "name": "stdout",
     "output_type": "stream",
     "text": [
      "<sqlalchemy.engine.cursor.CursorResult object at 0x7fda3739fd20>\n",
      "   year                                  actual_time_taken\n",
      "0  2013  hours: 2, minutes: 17, seconds: 13, millisecon...\n",
      "1  1993  hours: 2, minutes: 15, seconds: 35, millisecon...\n",
      "2  2002  hours: 2, minutes: 13, seconds: 39, millisecon...\n",
      "3  2008  hours: 2, minutes: 13, seconds: 3, millisecond...\n",
      "4  2022  hours: 2, minutes: 13, seconds: 2, millisecond...\n"
     ]
    }
   ],
   "source": [
    "query = '''\n",
    "        WITH timestamp_converted AS (\n",
    "                SELECT\n",
    "                        year,\n",
    "                        TO_TIMESTAMP(\n",
    "                                CONCAT(year, '-', month, '-', day, ' ', timestamp),\n",
    "                                'YYYY-MM-DD HH24:MI:SS'\n",
    "                        ):: TIMESTAMP WITHOUT TIME ZONE AS timestamp\n",
    "\n",
    "                FROM dim_date_times\n",
    "                ORDER BY timestamp ASC\n",
    "        ), get_end_time AS (\n",
    "                SELECT\n",
    "                        year,\n",
    "                        timestamp,\n",
    "                        LEAD (timestamp) OVER (\n",
    "                                PARTITION BY year\n",
    "                                ORDER BY timestamp ASC\n",
    "                        ) AS end_time\n",
    "                FROM timestamp_converted\n",
    "                ORDER BY timestamp\n",
    "        ), calc_avg_time AS (\n",
    "                SELECT\n",
    "                        year,\n",
    "                        AVG(end_time - timestamp) AS actual_time_taken\n",
    "                FROM get_end_time\n",
    "                GROUP BY year\n",
    "                ORDER BY actual_time_taken DESC\n",
    "        )\n",
    "\n",
    "        SELECT\n",
    "                year,\n",
    "                CONCAT (\n",
    "                        'hours: ', EXTRACT(HOUR FROM actual_time_taken), ', ',\n",
    "                        'minutes: ',EXTRACT(MINUTE FROM actual_time_taken), ', ',\n",
    "                        'seconds: ',TRUNC(EXTRACT(SECOND FROM actual_time_taken)), ', ',\n",
    "                        'milliseconds: ',EXTRACT(MILLISECONDS FROM actual_time_taken)\n",
    "                ) AS actual_time_taken\n",
    "        FROM calc_avg_time\n",
    "        LIMIT 5;\n",
    "        '''\n",
    "print(data_extrc.read_rds_table(query, db_conn))"
   ]
  }
 ],
 "metadata": {
  "kernelspec": {
   "display_name": "aicore",
   "language": "python",
   "name": "python3"
  },
  "language_info": {
   "codemirror_mode": {
    "name": "ipython",
    "version": 3
   },
   "file_extension": ".py",
   "mimetype": "text/x-python",
   "name": "python",
   "nbconvert_exporter": "python",
   "pygments_lexer": "ipython3",
   "version": "3.12.0"
  }
 },
 "nbformat": 4,
 "nbformat_minor": 2
}
